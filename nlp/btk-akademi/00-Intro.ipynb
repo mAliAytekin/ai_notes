{
 "cells": [
  {
   "cell_type": "markdown",
   "id": "fee39a69-60b2-4d9e-868c-dfe863a79282",
   "metadata": {},
   "source": [
    "https://www.btkakademi.gov.tr/portal/course/dogal-dil-isleme-40852"
   ]
  },
  {
   "cell_type": "code",
   "execution_count": null,
   "id": "661fd121-f5c6-4add-8d9f-354cd779ce84",
   "metadata": {
    "editable": true,
    "slideshow": {
     "slide_type": ""
    },
    "tags": []
   },
   "outputs": [],
   "source": []
  }
 ],
 "metadata": {
  "kernelspec": {
   "display_name": "Python 3 (ipykernel)",
   "language": "python",
   "name": "python3"
  },
  "language_info": {
   "codemirror_mode": {
    "name": "ipython",
    "version": 3
   },
   "file_extension": ".py",
   "mimetype": "text/x-python",
   "name": "python",
   "nbconvert_exporter": "python",
   "pygments_lexer": "ipython3",
   "version": "3.12.7"
  }
 },
 "nbformat": 4,
 "nbformat_minor": 5
}
